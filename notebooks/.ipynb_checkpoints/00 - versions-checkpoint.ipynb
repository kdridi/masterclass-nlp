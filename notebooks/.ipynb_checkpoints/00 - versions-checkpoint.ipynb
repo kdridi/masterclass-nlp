{
 "cells": [
  {
   "cell_type": "code",
   "execution_count": 9,
   "metadata": {},
   "outputs": [
    {
     "name": "stdout",
     "output_type": "stream",
     "text": [
      "Linux-4.19.76-linuxkit-x86_64-with-fedora-30-Thirty\n",
      "Python 3.6.9 (default, Apr 29 2020, 20:09:39) \n",
      "[GCC 9.3.1 20200408 (Red Hat 9.3.1-2)]\n",
      "smart_open 1.10.0\n",
      "logging 0.5.1.2\n",
      "gensim 3.8.1\n",
      "wikipedia (1, 4, 0)\n",
      "bs4 4.9.0\n"
     ]
    }
   ],
   "source": [
    "import platform, os, gzip, urllib, sys, smart_open, logging, gensim, wikipedia, bs4, lxml\n",
    "print(platform.platform())\n",
    "print(\"Python\", sys.version)\n",
    "print(\"smart_open\", smart_open.__version__)\n",
    "print(\"logging\", logging.__version__)\n",
    "print(\"gensim\", gensim.__version__)\n",
    "print(\"wikipedia\", wikipedia.__version__)\n",
    "print(\"bs4\", bs4.__version__)"
   ]
  }
 ],
 "metadata": {
  "kernelspec": {
   "display_name": "Python 3",
   "language": "python",
   "name": "python3"
  },
  "language_info": {
   "codemirror_mode": {
    "name": "ipython",
    "version": 3
   },
   "file_extension": ".py",
   "mimetype": "text/x-python",
   "name": "python",
   "nbconvert_exporter": "python",
   "pygments_lexer": "ipython3",
   "version": "3.6.9"
  }
 },
 "nbformat": 4,
 "nbformat_minor": 4
}
