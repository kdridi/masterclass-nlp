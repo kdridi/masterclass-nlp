{
 "cells": [
  {
   "cell_type": "code",
   "execution_count": 1,
   "metadata": {},
   "outputs": [],
   "source": [
    "import logging\n",
    "logging.basicConfig(format='%(asctime)s : %(levelname)s : %(message)s', level=logging.INFO)"
   ]
  },
  {
   "cell_type": "code",
   "execution_count": 2,
   "metadata": {},
   "outputs": [],
   "source": [
    "from urllib.request import build_opener\n",
    "\n",
    "url = 'https://en.wikipedia.org/wiki/List_of_programming_languages'\n",
    "response = build_opener().open(url)"
   ]
  },
  {
   "cell_type": "code",
   "execution_count": 3,
   "metadata": {},
   "outputs": [
    {
     "data": {
      "text/plain": [
       "b'<!DOCTYPE html>\\n<html class=\"client-nojs\" lang=\"en\" dir=\"ltr\">\\n<head>\\n<meta charset=\"UTF-8\"/>\\n<title>List of programming languages - Wikipedia</title>\\n<script>document.documentElement.className=\"client-js\";RLCONF={\"wgBreakFrames\":!1,\"wgSeparatorTransformTable\":[\"\",\"\"],\"wgDigitTransformTable\":[\"\",\"\"],\"wgDefaultDateFormat\":\"dmy\",\"wgMonthNames\":[\"\",\"January\",\"February\",\"March\",\"April\",\"May\",\"June\",\"July\",\"August\",\"September\",\"October\",\"November\",\"December\"],\"wgRequestId\":\"XqkbKgpAAEAAACOkq1oAAAAP\",\"wgCSPNonce\":!1,\"wgCanonicalNamespace\":\"\",\"wgCanonicalSpecialPageName\":!1,\"wgNamespaceNumber\":0,\"wgPageName\":\"List_of_programming_languages\",\"wgTitle\":\"List of programming languages\",\"wgCurRevisionId\":953275200,\"wgRevisionId\":953275200,\"wgArticleId\":144146,\"wgIsArticle\":!0,\"wgIsRedirect\":!1,\"wgAction\":\"view\",\"wgUserName\":null,\"wgUserGroups\":[\"*\"],\"wgCategories\":[\"Articles with short description\",\"Lists of programming languages\",\"Computer programming\"],\"wgPageContentLanguage\":\"en\",\"wgPageContentM'"
      ]
     },
     "execution_count": 3,
     "metadata": {},
     "output_type": "execute_result"
    }
   ],
   "source": [
    "from lxml.etree import tostring, parse\n",
    "\n",
    "document = parse(response)\n",
    "tostring(document)[:1000]"
   ]
  },
  {
   "cell_type": "code",
   "execution_count": 4,
   "metadata": {},
   "outputs": [
    {
     "name": "stdout",
     "output_type": "stream",
     "text": [
      "A_Sharp_(.NET)\n",
      "A-0_System\n",
      "A+_(programming_language)\n",
      "A++\n",
      "ABAP\n",
      "ABC_(programming_language)\n",
      "ABC_ALGOL\n",
      "ACC_(programming_language)\n",
      "Accent_(programming_language)\n",
      "Distributed_Application_Specification_Language\n",
      "Action!_(programming_language)\n",
      "ActionScript\n",
      "Actor_(programming_language)\n",
      "Ada_(programming_language)\n",
      "Adenine_(programming_language)\n",
      "Agda_(theorem_prover)\n",
      "Agilent_VEE\n",
      "Agora_(programming_language)\n",
      "AIMMS\n",
      "Aldor\n"
     ]
    }
   ],
   "source": [
    "from lxml.cssselect import CSSSelector\n",
    "from urllib.parse import unquote\n",
    "\n",
    "path = '.column-width a'\n",
    "\n",
    "first = 20\n",
    "select = CSSSelector(path)\n",
    "elementList = select(document)[:first]\n",
    "\n",
    "for elm in elementList:\n",
    "    tokens = elm.get('href').split('/')\n",
    "    if len(tokens) == 3:\n",
    "        [_, prefix, key] = tokens\n",
    "        if prefix == 'wiki':\n",
    "            print(unquote(key))"
   ]
  },
  {
   "cell_type": "code",
   "execution_count": 5,
   "metadata": {},
   "outputs": [
    {
     "name": "stdout",
     "output_type": "stream",
     "text": [
      "https://en.wikipedia.org/wiki/A%2B_(programming_language)\n",
      "A+ (programming language)\n",
      "A+ is an array programming language descended from the programming language A, which in turn was created to replace APL in 1988. Arthur Whitney developed the A portion of A+, while other developers at Morgan Stanley extended it, adding a graphical user interface and other language features. A+ is a \n"
     ]
    }
   ],
   "source": [
    "import wikipedia\n",
    "\n",
    "title = 'A+_(programming_language)'\n",
    "page = wikipedia.page(title, auto_suggest=False)\n",
    "print(page.url)\n",
    "print(page.title)\n",
    "print(page.content[:300])"
   ]
  },
  {
   "cell_type": "code",
   "execution_count": 6,
   "metadata": {},
   "outputs": [
    {
     "data": {
      "text/plain": [
       "True"
      ]
     },
     "execution_count": 6,
     "metadata": {},
     "output_type": "execute_result"
    }
   ],
   "source": [
    "title == unquote(page.url.split('/')[-1])"
   ]
  },
  {
   "cell_type": "code",
   "execution_count": 8,
   "metadata": {},
   "outputs": [
    {
     "name": "stderr",
     "output_type": "stream",
     "text": [
      "100% (20 of 20) |########################| Elapsed Time: 0:00:11 ETA:  00:00:00"
     ]
    },
    {
     "name": "stdout",
     "output_type": "stream",
     "text": [
      "{\n",
      "  \"A_Sharp_(.NET)\": {\n",
      "    \"title\": \"A Sharp (.NET)\",\n",
      "    \"url\": \"https://en.wikipedia.org/wiki/A_Sharp_(.NET)\",\n",
      "    \"content\": \"A# is a port of the Ada programming language to th...\"\n",
      "  },\n",
      "  \"A-0_System\": {\n",
      "    \"title\": \"A-0 System\",\n",
      "    \"url\": \"https://en.wikipedia.org/wiki/A-0_System\",\n",
      "    \"content\": \"The A-0 system (Arithmetic Language version 0), wr...\"\n",
      "  },\n",
      "  \"A+_(programming_language)\": {\n",
      "    \"title\": \"A+ (programming language)\",\n",
      "    \"url\": \"https://en.wikipedia.org/wiki/A%2B_(programming_language)\",\n",
      "    \"content\": \"A+ is an array programming language descended from...\"\n",
      "  },\n",
      "  \"A++\": {\n",
      "    \"title\": \"A++\",\n",
      "    \"url\": \"https://en.wikipedia.org/wiki/A%2B%2B\",\n",
      "    \"content\": \"A++ stands for abstraction plus reference plus  sy...\"\n",
      "  },\n",
      "  \"ABAP\": {\n",
      "    \"title\": \"ABAP\",\n",
      "    \"url\": \"https://en.wikipedia.org/wiki/ABAP\",\n",
      "    \"content\": \"ABAP (Advanced Business Application Programming, o...\"\n",
      "  },\n",
      "  \"ABC_(programming_language)\": {\n",
      "    \"title\": \"ABC (programming language)\",\n",
      "    \"url\": \"https://en.wikipedia.org/wiki/ABC_(programming_language)\",\n",
      "    \"content\": \"ABC is an imperative general-purpose programming l...\"\n",
      "  },\n",
      "  \"ABC_ALGOL\": {\n",
      "    \"title\": \"ABC ALGOL\",\n",
      "    \"url\": \"https://en.wikipedia.org/wiki/ABC_ALGOL\",\n",
      "    \"content\": \"ABC ALGOL is an extension of the programming langu...\"\n",
      "  },\n",
      "  \"ACC_(programming_language)\": {\n",
      "    \"title\": \"ACC (programming language)\",\n",
      "    \"url\": \"https://en.wikipedia.org/wiki/ACC_(programming_language)\",\n",
      "    \"content\": \"ACC is a near-C compiler for the MS-DOS operating ...\"\n",
      "  },\n",
      "  \"Distributed_Application_Specification_Language\": {\n",
      "    \"title\": \"Distributed Application Specification Language\",\n",
      "    \"url\": \"https://en.wikipedia.org/wiki/Distributed_Application_Specification_Language\",\n",
      "    \"content\": \"The DASL Programming Language (Distributed Applica...\"\n",
      "  },\n",
      "  \"Action!_(programming_language)\": {\n",
      "    \"title\": \"Action! (programming language)\",\n",
      "    \"url\": \"https://en.wikipedia.org/wiki/Action!_(programming_language)\",\n",
      "    \"content\": \"Action! is a procedural programming language simil...\"\n",
      "  },\n",
      "  \"ActionScript\": {\n",
      "    \"title\": \"ActionScript\",\n",
      "    \"url\": \"https://en.wikipedia.org/wiki/ActionScript\",\n",
      "    \"content\": \"ActionScript is an object-oriented programming lan...\"\n",
      "  },\n",
      "  \"Actor_(programming_language)\": {\n",
      "    \"title\": \"Actor (programming language)\",\n",
      "    \"url\": \"https://en.wikipedia.org/wiki/Actor_(programming_language)\",\n",
      "    \"content\": \"The Actor programming language was invented by Cha...\"\n",
      "  },\n",
      "  \"Ada_(programming_language)\": {\n",
      "    \"title\": \"Ada (programming language)\",\n",
      "    \"url\": \"https://en.wikipedia.org/wiki/Ada_(programming_language)\",\n",
      "    \"content\": \"Ada is a structured, statically typed, imperative,...\"\n",
      "  },\n",
      "  \"Agora_(programming_language)\": {\n",
      "    \"title\": \"Agora (programming language)\",\n",
      "    \"url\": \"https://en.wikipedia.org/wiki/Agora_(programming_language)\",\n",
      "    \"content\": \"Agora is a reflective, prototype-based, object-ori...\"\n",
      "  },\n",
      "  \"AIMMS\": {\n",
      "    \"title\": \"AIMMS\",\n",
      "    \"url\": \"https://en.wikipedia.org/wiki/AIMMS\",\n",
      "    \"content\": \"AIMMS (acronym for Advanced Interactive Multidimen...\"\n",
      "  },\n",
      "  \"Aldor\": {\n",
      "    \"title\": \"Aldor\",\n",
      "    \"url\": \"https://en.wikipedia.org/wiki/Aldor\",\n",
      "    \"content\": \"Aldor is a programming language. It is the success...\"\n",
      "  }\n",
      "}\n"
     ]
    }
   ],
   "source": [
    "import json\n",
    "import progressbar\n",
    "\n",
    "articles = {}\n",
    "\n",
    "size = len(elementList)\n",
    "bar = progressbar.ProgressBar(max_value=size)\n",
    "idx = 0\n",
    "\n",
    "for elm in elementList:\n",
    "    tokens = elm.get('href').split('/')\n",
    "    if len(tokens) == 3:\n",
    "        [_, prefix, key] = tokens\n",
    "        if prefix == 'wiki':\n",
    "            title = unquote(key)\n",
    "            page = wikipedia.page(title, auto_suggest=False)\n",
    "            if title == unquote(page.url.split('/')[-1]):\n",
    "                articles[title] = {}\n",
    "                articles[title]['title'] = page.title\n",
    "                articles[title]['url'] = page.url\n",
    "                articles[title]['content'] = '%s...' % page.content[:50]\n",
    "    idx += 1\n",
    "    bar.update(idx)\n",
    "\n",
    "print(json.dumps(articles, indent=2, separators=(',', ': ')))"
   ]
  },
  {
   "cell_type": "code",
   "execution_count": null,
   "metadata": {},
   "outputs": [],
   "source": []
  }
 ],
 "metadata": {
  "kernelspec": {
   "display_name": "Python 3",
   "language": "python",
   "name": "python3"
  },
  "language_info": {
   "codemirror_mode": {
    "name": "ipython",
    "version": 3
   },
   "file_extension": ".py",
   "mimetype": "text/x-python",
   "name": "python",
   "nbconvert_exporter": "python",
   "pygments_lexer": "ipython3",
   "version": "3.6.9"
  }
 },
 "nbformat": 4,
 "nbformat_minor": 4
}
